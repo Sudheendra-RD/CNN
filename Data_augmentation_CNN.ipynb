{
  "nbformat": 4,
  "nbformat_minor": 0,
  "metadata": {
    "colab": {
      "name": "Data augmentation CNN.ipynb",
      "provenance": [],
      "mount_file_id": "1bZEUyyMiHcSVa-H5BfYvdHNuh5OCc3U3",
      "authorship_tag": "ABX9TyNOLuS9neuKXVjcHFM5OLri"
    },
    "kernelspec": {
      "name": "python3",
      "display_name": "Python 3"
    },
    "language_info": {
      "name": "python"
    }
  },
  "cells": [
    {
      "cell_type": "code",
      "execution_count": null,
      "metadata": {
        "id": "FTjFxuBCBnii"
      },
      "outputs": [],
      "source": [
        "import keras\n",
        "from keras.preprocessing.image import ImageDataGenerator, array_to_img, img_to_array, load_img "
      ]
    },
    {
      "cell_type": "code",
      "source": [
        "# This library is used for Data Augmentation\n",
        "aug = ImageDataGenerator(\n",
        "    rotation_range=40,\n",
        "    width_shift_range=0.2,\n",
        "    height_shift_range=0.2,\n",
        "    shear_range=0.2,\n",
        "    zoom_range=0.2,\n",
        "    horizontal_flip=True,\n",
        "    fill_mode='nearest')\n",
        "\n",
        "# Loading image from the directory\n",
        "img = load_img('drive/MyDrive/Colab Notebooks/CNN/pexels-photo-1108099.jpeg')\n",
        "# Convert image to Numpy array (375x500x3)\n",
        "x = img_to_array(img)\n",
        "# Reshape np array to (1x375x500x3)\n",
        "x = x.reshape((1,) + x.shape)\n",
        "\n",
        "i = 0\n",
        "# .flow() creates random batches of newly created images and saves in a directory\n",
        "\n",
        "# A for loop iterates through the image generator defined above\n",
        "for batch in aug.flow(x, batch_size=1, save_to_dir='drive/MyDrive/Colab Notebooks/CNN', save_prefix='dog', save_format='jpeg'):\n",
        "# We are specifying 21 random images\n",
        "  i +=1\n",
        "  if i>20:\n",
        "    break"
      ],
      "metadata": {
        "id": "MBb2y0P0B5u-"
      },
      "execution_count": null,
      "outputs": []
    }
  ]
}